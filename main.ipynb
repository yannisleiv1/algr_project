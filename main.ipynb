{
 "cells": [
  {
   "cell_type": "code",
   "execution_count": 1,
   "id": "e9251c69",
   "metadata": {},
   "outputs": [
    {
     "name": "stderr",
     "output_type": "stream",
     "text": [
      "[nltk_data] Downloading package stopwords to\n",
      "[nltk_data]     C:\\Users\\yanni\\AppData\\Roaming\\nltk_data...\n",
      "[nltk_data]   Package stopwords is already up-to-date!\n"
     ]
    },
    {
     "data": {
      "text/plain": [
       "True"
      ]
     },
     "execution_count": 1,
     "metadata": {},
     "output_type": "execute_result"
    }
   ],
   "source": [
    "# Install & Import Libraries\n",
    "import os\n",
    "import pandas as pd\n",
    "import nltk\n",
    "import string\n",
    "import zipfile\n",
    "import shutil\n",
    "from itertools import combinations\n",
    "from nltk.corpus import stopwords\n",
    "\n",
    "# Download NLTK stopwords\n",
    "nltk.download('stopwords')\n"
   ]
  },
  {
   "cell_type": "code",
   "execution_count": 2,
   "id": "ba7b2c3c",
   "metadata": {},
   "outputs": [],
   "source": [
    "# Kaggle API Setup (Requires kaggle.json or env variables)\n",
    "os.environ['KAGGLE_USERNAME'] = \"yannisleivaditis\"  # Replace with your Kaggle username\n",
    "os.environ['KAGGLE_KEY'] = \"84ba8bb53bcf2e0d8ede71a6e9fba8fd\"  # Replace with your Kaggle key\n"
   ]
  },
  {
   "cell_type": "code",
   "execution_count": 3,
   "id": "9ce61758",
   "metadata": {},
   "outputs": [
    {
     "name": "stdout",
     "output_type": "stream",
     "text": [
      "Books_rating.csv already exists. Skipping download.\n"
     ]
    }
   ],
   "source": [
    "# Download Dataset from Kaggle\n",
    "import os\n",
    "\n",
    "KAGGLE_DATASET = \"mohamedbakhet/amazon-books-reviews\"\n",
    "DOWNLOAD_DIR = \"kaggle_dataset\"\n",
    "csv_file_name = \"Books_rating.csv\"\n",
    "csv_file_path = os.path.join(DOWNLOAD_DIR, csv_file_name)\n",
    "\n",
    "# Create directory if it doesn't exist\n",
    "os.makedirs(DOWNLOAD_DIR, exist_ok=True)\n",
    "\n",
    "# Download only if the CSV doesn't already exist\n",
    "if not os.path.isfile(csv_file_path):\n",
    "    print(f\"{csv_file_name} not found. Downloading from Kaggle...\")\n",
    "    os.system(f'kaggle datasets download -d {KAGGLE_DATASET} -p {DOWNLOAD_DIR} --unzip')\n",
    "else:\n",
    "    print(f\"{csv_file_name} already exists. Skipping download.\")\n",
    "\n",
    "# Load and Check Dataset\n",
    "if not os.path.isfile(csv_file_path):\n",
    "    raise FileNotFoundError(f\"{csv_file_name} not found in {DOWNLOAD_DIR}\")\n",
    "\n"
   ]
  },
  {
   "cell_type": "code",
   "execution_count": 4,
   "id": "d031775e",
   "metadata": {},
   "outputs": [],
   "source": [
    "# Configuration\n",
    "STOP_WORDS = set(stopwords.words('english'))\n",
    "REVIEW_COLUMN = 'review/text'\n",
    "MAX_REVIEWS = 100  # Limit reviews for performance\n",
    "TOP_K = 3          # Top similar pairs to show\n"
   ]
  },
  {
   "cell_type": "code",
   "execution_count": 5,
   "id": "e19da8fe",
   "metadata": {},
   "outputs": [],
   "source": [
    "# Text Preprocessing\n",
    "def preprocess_text(text):\n",
    "    text = text.lower()\n",
    "    for p in string.punctuation:\n",
    "        text = text.replace(p, '')\n",
    "    return [word for word in text.split() if word not in STOP_WORDS]\n"
   ]
  },
  {
   "cell_type": "code",
   "execution_count": 6,
   "id": "df5ab7b4",
   "metadata": {},
   "outputs": [],
   "source": [
    "# Jaccard Similarity Function\n",
    "def jaccard_similarity(tokens1, tokens2):\n",
    "    intersection = []\n",
    "    for w in tokens1:\n",
    "        if w in tokens2 and w not in intersection:\n",
    "            intersection.append(w)\n",
    "\n",
    "    union = list(tokens1)\n",
    "    for w in tokens2:\n",
    "        if w not in union:\n",
    "            union.append(w)\n",
    "\n",
    "    if len(union) == 0:\n",
    "        return 0.0\n",
    "    return len(intersection) / len(union)\n"
   ]
  },
  {
   "cell_type": "code",
   "execution_count": 7,
   "id": "ca55586d",
   "metadata": {},
   "outputs": [],
   "source": [
    "# Load and Preprocess Reviews\n",
    "def load_reviews(path):\n",
    "    df = pd.read_csv(path)\n",
    "    if REVIEW_COLUMN not in df.columns:\n",
    "        raise ValueError(f\"Column '{REVIEW_COLUMN}' not found in the dataset.\")\n",
    "    df = df[[REVIEW_COLUMN]].dropna().drop_duplicates()\n",
    "    df = df[df[REVIEW_COLUMN].str.strip() != '']\n",
    "    df = df.head(MAX_REVIEWS).reset_index(drop=True)\n",
    "    df['tokens'] = df[REVIEW_COLUMN].apply(preprocess_text)\n",
    "    return df\n"
   ]
  },
  {
   "cell_type": "code",
   "execution_count": 8,
   "id": "fcd8d783",
   "metadata": {},
   "outputs": [],
   "source": [
    "# Compare All Review Pairs\n",
    "def find_similar_reviews(df):\n",
    "    similarities = []\n",
    "    for i, j in combinations(range(len(df)), 2):\n",
    "        sim = jaccard_similarity(df.at[i, 'tokens'], df.at[j, 'tokens'])\n",
    "        similarities.append(((i, j), sim))\n",
    "    \n",
    "    top_similarities = sorted(similarities, key=lambda x: x[1], reverse=True)[:TOP_K]\n",
    "    return top_similarities\n"
   ]
  },
  {
   "cell_type": "code",
   "execution_count": 9,
   "id": "b639792d",
   "metadata": {},
   "outputs": [],
   "source": [
    "# Display Top Similar Pairs\n",
    "def print_top_similar_pairs(df, top_pairs):\n",
    "    print(\"\\n=== Top Similar Review Pairs (Jaccard Similarity) ===\")\n",
    "    for (i, j), sim_score in top_pairs:\n",
    "        print(f\"\\n[Pair: Review {i} and Review {j}]\")\n",
    "        print(f\"Jaccard Similarity: {sim_score:.4f}\")\n",
    "        print(\"→ Review\", i, \":\", df.at[i, REVIEW_COLUMN][:300], \"...\")\n",
    "        print(\"→ Review\", j, \":\", df.at[j, REVIEW_COLUMN][:300], \"...\")\n"
   ]
  },
  {
   "cell_type": "code",
   "execution_count": 10,
   "id": "31e09607",
   "metadata": {},
   "outputs": [
    {
     "name": "stdout",
     "output_type": "stream",
     "text": [
      "\n",
      "=== Top Similar Review Pairs (Jaccard Similarity) ===\n",
      "\n",
      "[Pair: Review 24 and Review 29]\n",
      "Jaccard Similarity: 0.1690\n",
      "→ Review 24 : I just finished reading Whisper of the Wicked saints. I fell in love with the caracters. I expected an average romance read, but instead I found one of my favorite books of all time. Just when I thought I could predict the outcome I was shocked ! The writting was so descriptive that my heart broke w ...\n",
      "→ Review 29 : I am an avid reader and I was shocked at how hooked I became on this book. I thought the first chapter was a little long and a little too discriptive, but truth be told after that I could not put this down. I read the other reviews on Whispers of the wicked saints before I wrote this and I saw one b ...\n",
      "\n",
      "[Pair: Review 52 and Review 68]\n",
      "Jaccard Similarity: 0.1429\n",
      "→ Review 52 : This play was excellent. It's very smart, intellectually and morally meaty, and fast. I highly recommend it. Especially good material to ponder for people who in today's age can still think of the US or any country as being moral and right and good. ...\n",
      "→ Review 68 : A really good book to go with the software an excellent guide I highly recommend . . . . . ...\n",
      "\n",
      "[Pair: Review 24 and Review 31]\n",
      "Jaccard Similarity: 0.1404\n",
      "→ Review 24 : I just finished reading Whisper of the Wicked saints. I fell in love with the caracters. I expected an average romance read, but instead I found one of my favorite books of all time. Just when I thought I could predict the outcome I was shocked ! The writting was so descriptive that my heart broke w ...\n",
      "→ Review 31 : I happen to love romance novels, but only if they are goos romance. I am not one who loves everything, but this made my heart rejoice. I absolutlely could not put it down. Wow what a book !! You have to read this awesome story of forbiden love. I warn you now. It is steamy. ...\n"
     ]
    }
   ],
   "source": [
    "#  Run the Full Pipeline\n",
    "df = load_reviews(csv_file_path)\n",
    "top_similar = find_similar_reviews(df)\n",
    "print_top_similar_pairs(df, top_similar)\n"
   ]
  }
 ],
 "metadata": {
  "kernelspec": {
   "display_name": ".venv",
   "language": "python",
   "name": "python3"
  },
  "language_info": {
   "codemirror_mode": {
    "name": "ipython",
    "version": 3
   },
   "file_extension": ".py",
   "mimetype": "text/x-python",
   "name": "python",
   "nbconvert_exporter": "python",
   "pygments_lexer": "ipython3",
   "version": "3.12.6"
  }
 },
 "nbformat": 4,
 "nbformat_minor": 5
}
